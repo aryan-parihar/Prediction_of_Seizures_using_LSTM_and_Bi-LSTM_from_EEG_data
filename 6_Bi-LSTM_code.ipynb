{
 "cells": [
  {
   "cell_type": "code",
   "execution_count": null,
   "metadata": {},
   "outputs": [],
   "source": [
    "import pandas as pd\n",
    "import numpy as np\n",
    "from sklearn.model_selection import train_test_split\n",
    "from sklearn.metrics import classification_report, confusion_matrix, accuracy_score\n",
    "\n",
    "from tensorflow.keras.models import Sequential\n",
    "from tensorflow.keras.layers import Bidirectional, LSTM, Dropout, Flatten, Dense"
   ]
  },
  {
   "cell_type": "code",
   "execution_count": null,
   "metadata": {},
   "outputs": [],
   "source": [
    "# Load dataset\n",
    "df = pd.read_csv('Epileptic Seizure Recognition.csv')"
   ]
  },
  {
   "cell_type": "code",
   "execution_count": null,
   "metadata": {},
   "outputs": [],
   "source": [
    "# Separate labels (y) from the dataset\n",
    "y = df['y']   # Target variable (class labels)\n",
    "df = df.drop(['Unnamed'], axis=1)   # Drop unnecessary column 'Unnamed' from the dataset"
   ]
  },
  {
   "cell_type": "code",
   "execution_count": null,
   "metadata": {},
   "outputs": [],
   "source": [
    "df = df.drop(['y'], axis=1)    # Drop the target 'y' from the feature set to prepare input data\n",
    "\n",
    "# Prepare the input data\n",
    "X = []\n",
    "for i, row in df.iterrows():   # Iterate through each row of the dataframe\n",
    "    tmp_x = []\n",
    "    for elem in row.tolist():     # Convert each row into a list and append each element as a sublist\n",
    "        tmp_x.append([elem])\n",
    "    X.append(tmp_x)"
   ]
  },
  {
   "cell_type": "code",
   "execution_count": null,
   "metadata": {},
   "outputs": [],
   "source": [
    "X = np.array(X)    # Convert list X to a numpy array\n",
    "print(X.shape)    # Print the shape of the input data"
   ]
  },
  {
   "cell_type": "code",
   "execution_count": null,
   "metadata": {},
   "outputs": [],
   "source": [
    "# Convert y labels (binary classification)\n",
    "for i in range(y.shape[0]):   # Convert class labels to binary: 1 for epileptic seizure, 0 for non-seizure\n",
    "    if y[i] != 1:\n",
    "        y[i] = 0"
   ]
  },
  {
   "cell_type": "code",
   "execution_count": null,
   "metadata": {},
   "outputs": [],
   "source": [
    "# Split into training and test sets\n",
    "X_train, X_test, y_train, y_test = train_test_split(X, y, test_size=0.2, random_state=1)"
   ]
  },
  {
   "cell_type": "code",
   "execution_count": null,
   "metadata": {},
   "outputs": [],
   "source": [
    "# Define the Bi-LSTM model\n",
    "model = Sequential()     # Initialize a sequential model"
   ]
  },
  {
   "cell_type": "code",
   "execution_count": null,
   "metadata": {},
   "outputs": [],
   "source": [
    "# Add Bidirectional LSTM layers\n",
    "model.add(Bidirectional(LSTM(128, return_sequences=True), input_shape=(178, 1)))  # First Bi-LSTM layer with 128 units\n",
    "model.add(Dropout(0.2))      # Add dropout to prevent overfitting\n",
    "model.add(Bidirectional(LSTM(64)))     # Second Bi-LSTM layer with 64 units\n",
    "model.add(Dropout(0.2))      # Another dropout layer"
   ]
  },
  {
   "cell_type": "code",
   "execution_count": null,
   "metadata": {},
   "outputs": [],
   "source": [
    "# Flatten and add Dense layers\n",
    "model.add(Flatten())    # Flatten the output before feeding into Dense layers\n",
    "model.add(Dense(250, activation='relu'))    # Fully connected layer with 250 units and ReLU activation\n",
    "model.add(Dense(1, activation='sigmoid'))   # Output layer with sigmoid activation for binary classification"
   ]
  },
  {
   "cell_type": "code",
   "execution_count": null,
   "metadata": {},
   "outputs": [],
   "source": [
    "# Compile the model\n",
    "model.compile(loss='binary_crossentropy', optimizer='adam', metrics=['accuracy']) "
   ]
  },
  {
   "cell_type": "code",
   "execution_count": null,
   "metadata": {},
   "outputs": [],
   "source": [
    "# Print model summary\n",
    "model.summary()      # Print the structure of the model"
   ]
  },
  {
   "cell_type": "code",
   "execution_count": null,
   "metadata": {},
   "outputs": [],
   "source": [
    "# Train the model\n",
    "model.fit(X_train, y_train, validation_data=(X_test, y_test), epochs=10, batch_size=128, verbose=2)"
   ]
  },
  {
   "cell_type": "code",
   "execution_count": null,
   "metadata": {},
   "outputs": [],
   "source": [
    "# Evaluate the model on test data\n",
    "loss, accuracy = model.evaluate(X_test, y_test, verbose=0)\n",
    "\n",
    "# Print the accuracy\n",
    "print(f\"Test Accuracy: {accuracy * 100:.2f}%\")    # Output the test accuracy\n"
   ]
  }
 ],
 "metadata": {
  "language_info": {
   "name": "python"
  }
 },
 "nbformat": 4,
 "nbformat_minor": 2
}
